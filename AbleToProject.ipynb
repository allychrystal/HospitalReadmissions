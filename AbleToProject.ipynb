{
 "cells": [
  {
   "cell_type": "markdown",
   "metadata": {},
   "source": [
    "##### Import Programs"
   ]
  },
  {
   "cell_type": "code",
   "execution_count": 1,
   "metadata": {
    "collapsed": true
   },
   "outputs": [],
   "source": [
    "import numpy as np\n",
    "import pandas as pd\n",
    "import matplotlib.pyplot as plt\n",
    "import seaborn as sns\n",
    "%matplotlib inline\n",
    "\n",
    "from sklearn.neighbors import KNeighborsClassifier\n",
    "from sklearn.linear_model import LogisticRegression\n",
    "from sklearn.preprocessing import StandardScaler\n",
    "from sklearn.model_selection import cross_val_score, GridSearchCV, train_test_split, KFold\n",
    "from sklearn.cluster import KMeans\n",
    "from sklearn.ensemble import GradientBoostingClassifier, RandomForestClassifier\n",
    "from sklearn.metrics import confusion_matrix, classification_report, accuracy_score, \n",
    "from sklearn.metrics import  roc_auc_score, recall_score\n",
    "from sklearn.tree import DecisionTreeClassifier\n",
    "from sklearn import metrics"
   ]
  },
  {
   "cell_type": "markdown",
   "metadata": {},
   "source": [
    "##### Load Data"
   ]
  },
  {
   "cell_type": "code",
   "execution_count": 2,
   "metadata": {},
   "outputs": [
    {
     "name": "stderr",
     "output_type": "stream",
     "text": [
      "/Users/allychrystal/anaconda3/lib/python3.6/site-packages/IPython/core/interactiveshell.py:2717: DtypeWarning: Columns (10) have mixed types. Specify dtype option on import or set low_memory=False.\n",
      "  interactivity=interactivity, compiler=compiler, result=result)\n"
     ]
    }
   ],
   "source": [
    "df = pd.read_csv('diabetic_data.csv', na_values=[\"?\"])"
   ]
  },
  {
   "cell_type": "code",
   "execution_count": 4,
   "metadata": {
    "scrolled": true
   },
   "outputs": [
    {
     "data": {
      "text/plain": [
       "weight               98569\n",
       "medical_specialty    49949\n",
       "payer_code           40256\n",
       "race                  2273\n",
       "diag_3                1423\n",
       "diag_2                 358\n",
       "diag_1                  21\n",
       "num_procedures           0\n",
       "max_glu_serum            0\n",
       "number_diagnoses         0\n",
       "dtype: int64"
      ]
     },
     "execution_count": 4,
     "metadata": {},
     "output_type": "execute_result"
    }
   ],
   "source": [
    "df.isnull().sum().sort_values(ascending= False).head(10)"
   ]
  },
  {
   "cell_type": "markdown",
   "metadata": {},
   "source": [
    "##### Fill Nulls"
   ]
  },
  {
   "cell_type": "code",
   "execution_count": 5,
   "metadata": {
    "collapsed": true
   },
   "outputs": [],
   "source": [
    "# Drop columns with significant amount of nulls\n",
    "df = df.drop(['weight', 'medical_specialty', 'payer_code'], axis=1)"
   ]
  },
  {
   "cell_type": "code",
   "execution_count": 6,
   "metadata": {
    "collapsed": true
   },
   "outputs": [],
   "source": [
    "# Fill remaining nulls\n",
    "numerical_features = list(df._get_numeric_data().columns)\n",
    "for i in numerical_features:\n",
    "    df[i] = df[i].fillna(-999)\n",
    "    \n",
    "categorical_columns = list(df.select_dtypes(include=['object']).columns)\n",
    "for i in categorical_columns:\n",
    "    df[i] = df[i].fillna('None')"
   ]
  },
  {
   "cell_type": "markdown",
   "metadata": {},
   "source": [
    "##### Feature Engineering: medication columns converted to binary: 0=No and 1=Steady/Up/Down"
   ]
  },
  {
   "cell_type": "code",
   "execution_count": 7,
   "metadata": {
    "collapsed": true
   },
   "outputs": [],
   "source": [
    "med_columns = ['metformin',\n",
    "'repaglinide',\n",
    "'nateglinide',\n",
    "'chlorpropamide',\n",
    "'glimepiride',\n",
    "'acetohexamide',\n",
    "'glipizide',\n",
    "'glyburide',\n",
    "'tolbutamide',\n",
    "'pioglitazone',\n",
    "'rosiglitazone',\n",
    "'acarbose',\n",
    "'miglitol',\n",
    "'troglitazone',\n",
    "'tolazamide',\n",
    "'examide',\n",
    "'citoglipton',\n",
    "'insulin',\n",
    "'glyburide-metformin',\n",
    "'glipizide-metformin',\n",
    "'glimepiride-pioglitazone',\n",
    "'metformin-rosiglitazone',\n",
    "'metformin-pioglitazone']"
   ]
  },
  {
   "cell_type": "code",
   "execution_count": 8,
   "metadata": {
    "collapsed": true
   },
   "outputs": [],
   "source": [
    "for i in med_columns:\n",
    "    df[i] = df[i].map(lambda x: 0 if x=='No' else 1)"
   ]
  },
  {
   "cell_type": "markdown",
   "metadata": {},
   "source": [
    "##### Feature Engineering: Total Medications"
   ]
  },
  {
   "cell_type": "code",
   "execution_count": 9,
   "metadata": {
    "collapsed": true
   },
   "outputs": [],
   "source": [
    "df['total_meds'] = df[med_columns].sum(axis=1)"
   ]
  },
  {
   "cell_type": "code",
   "execution_count": 10,
   "metadata": {},
   "outputs": [
    {
     "data": {
      "text/plain": [
       "1    47314\n",
       "0    23403\n",
       "2    21873\n",
       "3     7778\n",
       "4     1335\n",
       "5       58\n",
       "6        5\n",
       "Name: total_meds, dtype: int64"
      ]
     },
     "execution_count": 10,
     "metadata": {},
     "output_type": "execute_result"
    }
   ],
   "source": [
    "df.total_meds.value_counts()"
   ]
  },
  {
   "cell_type": "markdown",
   "metadata": {},
   "source": [
    "##### Eliminate columns dominated by a single value (>=95%)"
   ]
  },
  {
   "cell_type": "code",
   "execution_count": 11,
   "metadata": {
    "collapsed": true
   },
   "outputs": [],
   "source": [
    "eliminate = []\n",
    "columns = list(df.columns) \n",
    "\n",
    "for i in columns:\n",
    "    mode_count = df[i].value_counts().max()\n",
    "    if mode_count >= 0.95* df.shape[0]:\n",
    "        eliminate.append(i)\n",
    "    else:\n",
    "        pass"
   ]
  },
  {
   "cell_type": "code",
   "execution_count": 12,
   "metadata": {
    "scrolled": true
   },
   "outputs": [
    {
     "data": {
      "text/plain": [
       "(101766, 32)"
      ]
     },
     "execution_count": 12,
     "metadata": {},
     "output_type": "execute_result"
    }
   ],
   "source": [
    "df = df.drop(eliminate, axis=1)\n",
    "df.shape"
   ]
  },
  {
   "cell_type": "markdown",
   "metadata": {},
   "source": [
    "##### Diagnostic Columns"
   ]
  },
  {
   "cell_type": "code",
   "execution_count": 13,
   "metadata": {
    "collapsed": true
   },
   "outputs": [],
   "source": [
    "diag_columns = ['diag_1','diag_2','diag_3']"
   ]
  },
  {
   "cell_type": "code",
   "execution_count": 14,
   "metadata": {},
   "outputs": [
    {
     "data": {
      "text/html": [
       "<div>\n",
       "<style>\n",
       "    .dataframe thead tr:only-child th {\n",
       "        text-align: right;\n",
       "    }\n",
       "\n",
       "    .dataframe thead th {\n",
       "        text-align: left;\n",
       "    }\n",
       "\n",
       "    .dataframe tbody tr th {\n",
       "        vertical-align: top;\n",
       "    }\n",
       "</style>\n",
       "<table border=\"1\" class=\"dataframe\">\n",
       "  <thead>\n",
       "    <tr style=\"text-align: right;\">\n",
       "      <th></th>\n",
       "      <th>diag_1</th>\n",
       "      <th>diag_2</th>\n",
       "      <th>diag_3</th>\n",
       "    </tr>\n",
       "  </thead>\n",
       "  <tbody>\n",
       "    <tr>\n",
       "      <th>0</th>\n",
       "      <td>250.83</td>\n",
       "      <td>None</td>\n",
       "      <td>None</td>\n",
       "    </tr>\n",
       "    <tr>\n",
       "      <th>1</th>\n",
       "      <td>276</td>\n",
       "      <td>250.01</td>\n",
       "      <td>255</td>\n",
       "    </tr>\n",
       "    <tr>\n",
       "      <th>2</th>\n",
       "      <td>648</td>\n",
       "      <td>250</td>\n",
       "      <td>V27</td>\n",
       "    </tr>\n",
       "    <tr>\n",
       "      <th>3</th>\n",
       "      <td>8</td>\n",
       "      <td>250.43</td>\n",
       "      <td>403</td>\n",
       "    </tr>\n",
       "  </tbody>\n",
       "</table>\n",
       "</div>"
      ],
      "text/plain": [
       "   diag_1  diag_2 diag_3\n",
       "0  250.83    None   None\n",
       "1     276  250.01    255\n",
       "2     648     250    V27\n",
       "3       8  250.43    403"
      ]
     },
     "execution_count": 14,
     "metadata": {},
     "output_type": "execute_result"
    }
   ],
   "source": [
    "df.loc[:, diag_columns].head(4)"
   ]
  },
  {
   "cell_type": "code",
   "execution_count": 15,
   "metadata": {
    "collapsed": true
   },
   "outputs": [],
   "source": [
    "# Remove anything after '.'\n",
    "for i in diag_columns:\n",
    "    df[i] = df[i].str.split('.').str[0]"
   ]
  },
  {
   "cell_type": "code",
   "execution_count": 16,
   "metadata": {},
   "outputs": [
    {
     "data": {
      "text/html": [
       "<div>\n",
       "<style>\n",
       "    .dataframe thead tr:only-child th {\n",
       "        text-align: right;\n",
       "    }\n",
       "\n",
       "    .dataframe thead th {\n",
       "        text-align: left;\n",
       "    }\n",
       "\n",
       "    .dataframe tbody tr th {\n",
       "        vertical-align: top;\n",
       "    }\n",
       "</style>\n",
       "<table border=\"1\" class=\"dataframe\">\n",
       "  <thead>\n",
       "    <tr style=\"text-align: right;\">\n",
       "      <th></th>\n",
       "      <th>diag_1</th>\n",
       "      <th>diag_2</th>\n",
       "      <th>diag_3</th>\n",
       "    </tr>\n",
       "  </thead>\n",
       "  <tbody>\n",
       "    <tr>\n",
       "      <th>0</th>\n",
       "      <td>250</td>\n",
       "      <td>None</td>\n",
       "      <td>None</td>\n",
       "    </tr>\n",
       "    <tr>\n",
       "      <th>1</th>\n",
       "      <td>276</td>\n",
       "      <td>250</td>\n",
       "      <td>255</td>\n",
       "    </tr>\n",
       "    <tr>\n",
       "      <th>2</th>\n",
       "      <td>648</td>\n",
       "      <td>250</td>\n",
       "      <td>V27</td>\n",
       "    </tr>\n",
       "    <tr>\n",
       "      <th>3</th>\n",
       "      <td>8</td>\n",
       "      <td>250</td>\n",
       "      <td>403</td>\n",
       "    </tr>\n",
       "  </tbody>\n",
       "</table>\n",
       "</div>"
      ],
      "text/plain": [
       "  diag_1 diag_2 diag_3\n",
       "0    250   None   None\n",
       "1    276    250    255\n",
       "2    648    250    V27\n",
       "3      8    250    403"
      ]
     },
     "execution_count": 16,
     "metadata": {},
     "output_type": "execute_result"
    }
   ],
   "source": [
    "df.loc[:, diag_columns].head(4)"
   ]
  },
  {
   "cell_type": "code",
   "execution_count": 17,
   "metadata": {
    "collapsed": true
   },
   "outputs": [],
   "source": [
    "# Duplicating Column\n",
    "df['diag_1_new'] = df['diag_1']"
   ]
  },
  {
   "cell_type": "code",
   "execution_count": 18,
   "metadata": {
    "collapsed": true
   },
   "outputs": [],
   "source": [
    "# disease codes starting with V or E are recoded to 0\n",
    "df.loc[df['diag_1'].str.contains('V'), ['diag_1_new']] = 0\n",
    "df.loc[df['diag_1'].str.contains('E'), ['diag_1_new']] = 0"
   ]
  },
  {
   "cell_type": "code",
   "execution_count": 19,
   "metadata": {
    "collapsed": true
   },
   "outputs": [],
   "source": [
    "# Convert nulls to numeric (outlier) value\n",
    "df['diag_1_new'] = df['diag_1_new'].replace('None', -999).astype(float)"
   ]
  },
  {
   "cell_type": "code",
   "execution_count": 20,
   "metadata": {
    "collapsed": true
   },
   "outputs": [],
   "source": [
    "df['diag_1_new'] = df['diag_1_new'].astype(float)"
   ]
  },
  {
   "cell_type": "code",
   "execution_count": 21,
   "metadata": {
    "collapsed": true
   },
   "outputs": [],
   "source": [
    "# iterate and recode disease codes between certain ranges to certain categories\n",
    "for index, row in df.iterrows():\n",
    "    if (row['diag_1_new'] >= 390 and row['diag_1_new'] < 460) or \n",
    "    (np.floor(row['diag_1_new']) == 785):\n",
    "        df.loc[index, 'diag_1_new'] = 1\n",
    "    elif (row['diag_1_new'] >= 460 and row['diag_1_new'] < 520) or \n",
    "    (np.floor(row['diag_1_new']) == 786):\n",
    "        df.loc[index, 'diag_1_new'] = 2\n",
    "    elif (row['diag_1_new'] >= 520 and row['diag_1_new'] < 580) or \n",
    "    (np.floor(row['diag_1_new']) == 787):\n",
    "        df.loc[index, 'diag_1_new'] = 3\n",
    "    elif (np.floor(row['diag_1_new']) == 250):\n",
    "        df.loc[index, 'diag_1_new'] = 4\n",
    "    elif (row['diag_1_new'] >= 800 and row['diag_1_new'] < 1000):\n",
    "        df.loc[index, 'diag_1_new'] = 5\n",
    "    elif (row['diag_1_new'] >= 710 and row['diag_1_new'] < 740):\n",
    "        df.loc[index, 'diag_1_new'] = 6\n",
    "    elif (row['diag_1_new'] >= 580 and row['diag_1_new'] < 630) or \n",
    "    (np.floor(row['diag_1_new']) == 788):\n",
    "        df.loc[index, 'diag_1_new'] = 7\n",
    "    elif (row['diag_1_new'] >= 140 and row['diag_1_new'] < 240):\n",
    "        df.loc[index, 'diag_1_new'] = 8\n",
    "    elif (row['diag_1_new'] == -999):\n",
    "          pass\n",
    "    else:\n",
    "        df.loc[index, 'diag_1_new'] = 0"
   ]
  },
  {
   "cell_type": "code",
   "execution_count": 22,
   "metadata": {
    "scrolled": true
   },
   "outputs": [
    {
     "data": {
      "text/plain": [
       " 1.0      30437\n",
       " 0.0      18172\n",
       " 2.0      14423\n",
       " 3.0       9475\n",
       " 4.0       8757\n",
       " 5.0       6974\n",
       " 7.0       5117\n",
       " 6.0       4957\n",
       " 8.0       3433\n",
       "-999.0       21\n",
       "Name: diag_1_new, dtype: int64"
      ]
     },
     "execution_count": 22,
     "metadata": {},
     "output_type": "execute_result"
    }
   ],
   "source": [
    "df['diag_1_new'].value_counts()"
   ]
  },
  {
   "cell_type": "code",
   "execution_count": 24,
   "metadata": {
    "collapsed": true
   },
   "outputs": [],
   "source": [
    "df = df.drop(diag_columns, axis=1)"
   ]
  },
  {
   "cell_type": "markdown",
   "metadata": {},
   "source": [
    "##### Feature Engineering: Age"
   ]
  },
  {
   "cell_type": "code",
   "execution_count": 25,
   "metadata": {
    "collapsed": true
   },
   "outputs": [],
   "source": [
    "age_dict = {'[0-10)' : 10,\n",
    "'[10-20)' : 20,\n",
    "'[20-30)' : 30,\n",
    "'[30-40)' : 40,\n",
    "'[40-50)' : 50,\n",
    "'[50-60)' : 60,\n",
    "'[60-70)' : 70,\n",
    "'[70-80)' : 80,\n",
    "'[80-90)' : 90,\n",
    "'[90-100)': 100}\n",
    "df['age'] = df['age'].map(lambda x: age_dict[x])"
   ]
  },
  {
   "cell_type": "markdown",
   "metadata": {},
   "source": [
    "##### Feature Engineering: Categorical Variables to Numerical"
   ]
  },
  {
   "cell_type": "code",
   "execution_count": 26,
   "metadata": {
    "scrolled": true
   },
   "outputs": [
    {
     "data": {
      "text/plain": [
       "None    96420\n",
       "Norm     2597\n",
       ">200     1485\n",
       ">300     1264\n",
       "Name: max_glu_serum, dtype: int64"
      ]
     },
     "execution_count": 26,
     "metadata": {},
     "output_type": "execute_result"
    }
   ],
   "source": [
    "df.max_glu_serum.value_counts()"
   ]
  },
  {
   "cell_type": "code",
   "execution_count": 27,
   "metadata": {
    "collapsed": true
   },
   "outputs": [],
   "source": [
    "df['max_glu_serum'] = df['max_glu_serum'].map(lambda x: 0 if x=='None'else 1 if x=='Norm' else 2 if x=='>200' else 3)"
   ]
  },
  {
   "cell_type": "code",
   "execution_count": 28,
   "metadata": {},
   "outputs": [
    {
     "data": {
      "text/plain": [
       "0    96420\n",
       "1     2597\n",
       "2     1485\n",
       "3     1264\n",
       "Name: max_glu_serum, dtype: int64"
      ]
     },
     "execution_count": 28,
     "metadata": {},
     "output_type": "execute_result"
    }
   ],
   "source": [
    "df.max_glu_serum.value_counts()"
   ]
  },
  {
   "cell_type": "code",
   "execution_count": 29,
   "metadata": {},
   "outputs": [
    {
     "data": {
      "text/plain": [
       "None    84748\n",
       ">8       8216\n",
       "Norm     4990\n",
       ">7       3812\n",
       "Name: A1Cresult, dtype: int64"
      ]
     },
     "execution_count": 29,
     "metadata": {},
     "output_type": "execute_result"
    }
   ],
   "source": [
    "df['A1Cresult'].value_counts()"
   ]
  },
  {
   "cell_type": "code",
   "execution_count": 30,
   "metadata": {
    "collapsed": true
   },
   "outputs": [],
   "source": [
    "df['A1Cresult'] = df['A1Cresult'].map(lambda x: 0 if x=='None' else 1 if x=='Norm' else 2 if x=='>7' else 3)"
   ]
  },
  {
   "cell_type": "code",
   "execution_count": 31,
   "metadata": {
    "scrolled": true
   },
   "outputs": [
    {
     "data": {
      "text/plain": [
       "0    84748\n",
       "3     8216\n",
       "1     4990\n",
       "2     3812\n",
       "Name: A1Cresult, dtype: int64"
      ]
     },
     "execution_count": 31,
     "metadata": {},
     "output_type": "execute_result"
    }
   ],
   "source": [
    "df['A1Cresult'].value_counts()"
   ]
  },
  {
   "cell_type": "code",
   "execution_count": 32,
   "metadata": {},
   "outputs": [
    {
     "data": {
      "text/plain": [
       "Yes    78363\n",
       "No     23403\n",
       "Name: diabetesMed, dtype: int64"
      ]
     },
     "execution_count": 32,
     "metadata": {},
     "output_type": "execute_result"
    }
   ],
   "source": [
    "df.diabetesMed.value_counts()"
   ]
  },
  {
   "cell_type": "code",
   "execution_count": 33,
   "metadata": {
    "collapsed": true
   },
   "outputs": [],
   "source": [
    "df['diabetesMed'] = df['diabetesMed'].map(lambda x: 0 if x=='No' else 1)"
   ]
  },
  {
   "cell_type": "code",
   "execution_count": 34,
   "metadata": {
    "scrolled": true
   },
   "outputs": [
    {
     "data": {
      "text/plain": [
       "1    78363\n",
       "0    23403\n",
       "Name: diabetesMed, dtype: int64"
      ]
     },
     "execution_count": 34,
     "metadata": {},
     "output_type": "execute_result"
    }
   ],
   "source": [
    "df.diabetesMed.value_counts()"
   ]
  },
  {
   "cell_type": "code",
   "execution_count": 35,
   "metadata": {},
   "outputs": [
    {
     "data": {
      "text/plain": [
       "No    54755\n",
       "Ch    47011\n",
       "Name: change, dtype: int64"
      ]
     },
     "execution_count": 35,
     "metadata": {},
     "output_type": "execute_result"
    }
   ],
   "source": [
    "df.change.value_counts()"
   ]
  },
  {
   "cell_type": "code",
   "execution_count": 36,
   "metadata": {
    "collapsed": true
   },
   "outputs": [],
   "source": [
    "df['change'] = df['change'].map(lambda x: 0 if x=='No' else 1)"
   ]
  },
  {
   "cell_type": "code",
   "execution_count": 37,
   "metadata": {
    "scrolled": true
   },
   "outputs": [
    {
     "data": {
      "text/plain": [
       "0    54755\n",
       "1    47011\n",
       "Name: change, dtype: int64"
      ]
     },
     "execution_count": 37,
     "metadata": {},
     "output_type": "execute_result"
    }
   ],
   "source": [
    "df.change.value_counts()"
   ]
  },
  {
   "cell_type": "code",
   "execution_count": 38,
   "metadata": {
    "scrolled": true
   },
   "outputs": [
    {
     "data": {
      "text/plain": [
       "Female             54708\n",
       "Male               47055\n",
       "Unknown/Invalid        3\n",
       "Name: gender, dtype: int64"
      ]
     },
     "execution_count": 38,
     "metadata": {},
     "output_type": "execute_result"
    }
   ],
   "source": [
    "df.gender.value_counts()"
   ]
  },
  {
   "cell_type": "code",
   "execution_count": 39,
   "metadata": {
    "collapsed": true
   },
   "outputs": [],
   "source": [
    "df['gender'] = df['gender'].map(lambda x: 0 if x=='Female' else 1 if x =='Male' else -999)"
   ]
  },
  {
   "cell_type": "code",
   "execution_count": 40,
   "metadata": {
    "scrolled": true
   },
   "outputs": [
    {
     "data": {
      "text/plain": [
       " 0      54708\n",
       " 1      47055\n",
       "-999        3\n",
       "Name: gender, dtype: int64"
      ]
     },
     "execution_count": 40,
     "metadata": {},
     "output_type": "execute_result"
    }
   ],
   "source": [
    "df.gender.value_counts()"
   ]
  },
  {
   "cell_type": "markdown",
   "metadata": {},
   "source": [
    "##### Feature Engineering: Admission, Discharge & Admission Source IDs"
   ]
  },
  {
   "cell_type": "code",
   "execution_count": 41,
   "metadata": {
    "collapsed": true
   },
   "outputs": [],
   "source": [
    "admission_dict = {\n",
    "1 : \"Emergency\",\n",
    "2 : \"Emergency\",\n",
    "3 : \"Elective\",\n",
    "4 : \"Newborn\",\n",
    "5 : \"NA\",\n",
    "6 : \"NA\",\n",
    "7 : \"Trauma\",\n",
    "8 : \"NA\"}\n",
    "df['admission_type_id'] = df['admission_type_id'].map(lambda x: admission_dict[x])"
   ]
  },
  {
   "cell_type": "code",
   "execution_count": 42,
   "metadata": {
    "collapsed": true
   },
   "outputs": [],
   "source": [
    "discharge_dict = {\n",
    "1 : \"Discharge\",\n",
    "2 : \"D/T\",\n",
    "3 : \"D/T\",\n",
    "4 : \"D/T\",\n",
    "5 : \"D/T\",\n",
    "6 : \"D/T\",\n",
    "7 : \"LAMA\",\n",
    "8 : \"D/T\",\n",
    "9 : \"Admitted\",\n",
    "10 : \"Newborn\",\n",
    "11 : \"Expired\",\n",
    "12 : \"Admitted\",\n",
    "13 : \"Hospice\",\n",
    "14 : \"Hospice\",\n",
    "15 : \"D/T\",\n",
    "16 : \"D/T\",\n",
    "17 : \"D/T\",\n",
    "18 : \"NA\",\n",
    "19 : \"Expired\",\n",
    "20 : \"Expired\",\n",
    "21 : \"Expired\",\n",
    "22 : \"D/T\",\n",
    "23 : \"D/T\",\n",
    "24 : \"D/T\",\n",
    "25 : \"NA\",\n",
    "26 : \"NA\",\n",
    "30 : \"D/T\",\n",
    "27 : \"D/T\",\n",
    "28 : \"D/T\",\n",
    "29 : \"D/T\"}\n",
    "df['discharge_disposition_id'] = df['discharge_disposition_id'].map(lambda x: discharge_dict[x])"
   ]
  },
  {
   "cell_type": "code",
   "execution_count": 43,
   "metadata": {
    "collapsed": true
   },
   "outputs": [],
   "source": [
    "source_dict = {\n",
    "1 : \"Referral\",\n",
    "2 : \"Referral\",\n",
    "3 : \"Referral\",\n",
    "4 : \"Transfer\",\n",
    "5 : \"Transfer\",\n",
    "6 : \"Transfer\",\n",
    "7 : \"ER\",\n",
    "8 : \"Enforcement\",\n",
    "9 : \"NA\",\n",
    "10 : \"Transfer\",\n",
    "11 : \"Newborn\",\n",
    "12 : \"Newborn\",\n",
    "13 : \"Newborn\",\n",
    "14 : \"Newborn\",\n",
    "15 : \"NA\",\n",
    "17 : \"NA\",\n",
    "18 : \"Transfer\",\n",
    "19 : \"Readmit\",\n",
    "20 : \"NA\",\n",
    "21 : \"NA\",\n",
    "22 : \"Transfer\",\n",
    "23 : \"Newborn\",\n",
    "24 : \"Newborn\",\n",
    "25 : \"Transfer\",\n",
    "26 : \"Transfer\"}\n",
    "df['admission_source_id'] = df['admission_source_id'].map(lambda x: source_dict[x])"
   ]
  },
  {
   "cell_type": "markdown",
   "metadata": {},
   "source": [
    "##### Feature Engineering: Total Number of Visits in the Preceding Year (Total)"
   ]
  },
  {
   "cell_type": "code",
   "execution_count": 44,
   "metadata": {
    "collapsed": true
   },
   "outputs": [],
   "source": [
    "df['total_visits'] = df['number_outpatient'] + df['number_emergency'] + df['number_inpatient']"
   ]
  },
  {
   "cell_type": "markdown",
   "metadata": {},
   "source": [
    "##### Target:  Will patient be readmitted to the hospital within 30 days: 0=NO/ >30 and 1= <30"
   ]
  },
  {
   "cell_type": "code",
   "execution_count": 45,
   "metadata": {
    "scrolled": true
   },
   "outputs": [
    {
     "data": {
      "text/plain": [
       "NO     54864\n",
       ">30    35545\n",
       "<30    11357\n",
       "Name: readmitted, dtype: int64"
      ]
     },
     "execution_count": 45,
     "metadata": {},
     "output_type": "execute_result"
    }
   ],
   "source": [
    "df.readmitted.value_counts()"
   ]
  },
  {
   "cell_type": "code",
   "execution_count": 46,
   "metadata": {
    "collapsed": true
   },
   "outputs": [],
   "source": [
    "df['readmitted'] = df['readmitted'].map(lambda x: 1 if x=='<30' else 0)"
   ]
  },
  {
   "cell_type": "code",
   "execution_count": 47,
   "metadata": {
    "scrolled": true
   },
   "outputs": [
    {
     "data": {
      "text/plain": [
       "0    90409\n",
       "1    11357\n",
       "Name: readmitted, dtype: int64"
      ]
     },
     "execution_count": 47,
     "metadata": {},
     "output_type": "execute_result"
    }
   ],
   "source": [
    "df.readmitted.value_counts()"
   ]
  },
  {
   "cell_type": "markdown",
   "metadata": {},
   "source": [
    "##### Categorical Columns"
   ]
  },
  {
   "cell_type": "code",
   "execution_count": 48,
   "metadata": {
    "collapsed": true
   },
   "outputs": [],
   "source": [
    "categorical_columns = list(df.select_dtypes(include=['object']).columns)\n",
    "numerical_features = list(df._get_numeric_data().columns)\n",
    "\n",
    "for col in categorical_columns:\n",
    "    data_values = sorted(list(df[col]))\n",
    "    categories = set(data_values)\n",
    "    df[col] = pd.Categorical(df[col], categories = categories)"
   ]
  },
  {
   "cell_type": "code",
   "execution_count": 49,
   "metadata": {
    "collapsed": true
   },
   "outputs": [],
   "source": [
    "data_dummies = pd.get_dummies(df[categorical_columns])"
   ]
  },
  {
   "cell_type": "code",
   "execution_count": 50,
   "metadata": {
    "collapsed": true
   },
   "outputs": [],
   "source": [
    "df = pd.concat((data_dummies, df[numerical_features]), axis=1)"
   ]
  },
  {
   "cell_type": "markdown",
   "metadata": {},
   "source": [
    "##### Save DataFrame"
   ]
  },
  {
   "cell_type": "code",
   "execution_count": 51,
   "metadata": {
    "collapsed": true
   },
   "outputs": [],
   "source": [
    "df.to_csv('diabetes_model_df.csv', index=False)"
   ]
  },
  {
   "cell_type": "markdown",
   "metadata": {},
   "source": [
    "Next Step: Modeling"
   ]
  },
  {
   "cell_type": "code",
   "execution_count": 52,
   "metadata": {
    "collapsed": true
   },
   "outputs": [],
   "source": [
    "df = pd.read_csv('diabetes_model_df.csv')"
   ]
  },
  {
   "cell_type": "markdown",
   "metadata": {},
   "source": [
    "##### Model Setup"
   ]
  },
  {
   "cell_type": "code",
   "execution_count": 53,
   "metadata": {
    "collapsed": true
   },
   "outputs": [],
   "source": [
    "X = df.drop(['readmitted', 'encounter_id', 'patient_nbr'], axis=1).copy()\n",
    "y = df.readmitted.values"
   ]
  },
  {
   "cell_type": "code",
   "execution_count": 54,
   "metadata": {
    "collapsed": true
   },
   "outputs": [],
   "source": [
    "X_train, X_test, y_train, y_test = train_test_split(X, y, test_size=0.20, random_state=44444)"
   ]
  },
  {
   "cell_type": "markdown",
   "metadata": {},
   "source": [
    "##### Baseline Accuracy"
   ]
  },
  {
   "cell_type": "code",
   "execution_count": 55,
   "metadata": {},
   "outputs": [
    {
     "name": "stdout",
     "output_type": "stream",
     "text": [
      "0.888400841145\n"
     ]
    }
   ],
   "source": [
    "baseline= 1 - np.mean(y)\n",
    "print(baseline)"
   ]
  },
  {
   "cell_type": "markdown",
   "metadata": {},
   "source": [
    "##### SMOTE"
   ]
  },
  {
   "cell_type": "code",
   "execution_count": 56,
   "metadata": {
    "scrolled": false
   },
   "outputs": [
    {
     "name": "stderr",
     "output_type": "stream",
     "text": [
      "/Users/allychrystal/anaconda3/lib/python3.6/site-packages/sklearn/utils/deprecation.py:75: DeprecationWarning: Function _ratio_float is deprecated; Use a float for 'ratio' is deprecated from version 0.2. The support will be removed in 0.4. Use a dict, str, or a callable instead.\n",
      "  warnings.warn(msg, category=DeprecationWarning)\n"
     ]
    }
   ],
   "source": [
    "from imblearn.over_sampling import SMOTE\n",
    "\n",
    "sm = SMOTE(random_state=10, ratio = 1.0)\n",
    "X_train, y_train = sm.fit_sample(X_train, y_train)"
   ]
  },
  {
   "cell_type": "markdown",
   "metadata": {},
   "source": [
    "##### Scaler"
   ]
  },
  {
   "cell_type": "code",
   "execution_count": 57,
   "metadata": {
    "collapsed": true
   },
   "outputs": [],
   "source": [
    "ss = StandardScaler()\n",
    "X_train = ss.fit_transform(X_train)\n",
    "X_test = ss.transform(X_test)"
   ]
  },
  {
   "cell_type": "markdown",
   "metadata": {},
   "source": [
    "##### Logistic Regression Model"
   ]
  },
  {
   "cell_type": "code",
   "execution_count": 346,
   "metadata": {
    "collapsed": true
   },
   "outputs": [],
   "source": [
    "# lr_params = {\n",
    "#     'C': [0.001, 0.1, 1, 10, 100],\n",
    "#     'penalty': ['l1', 'l2']}\n",
    "\n",
    "# lr_model = GridSearchCV(LogisticRegression(), lr_params, verbose=0, n_jobs=-1)"
   ]
  },
  {
   "cell_type": "code",
   "execution_count": 347,
   "metadata": {
    "collapsed": true
   },
   "outputs": [],
   "source": [
    "# lr_model.fit(X_train, y_train)\n",
    "# print('Best Score: ', lr_model.best_score_)\n",
    "# print('Best Params: ', lr_model.best_params_)"
   ]
  },
  {
   "cell_type": "code",
   "execution_count": 58,
   "metadata": {
    "scrolled": false
   },
   "outputs": [
    {
     "data": {
      "text/plain": [
       "LogisticRegression(C=10, class_weight=None, dual=False, fit_intercept=True,\n",
       "          intercept_scaling=1, max_iter=100, multi_class='ovr', n_jobs=1,\n",
       "          penalty='l1', random_state=None, solver='liblinear', tol=0.0001,\n",
       "          verbose=0, warm_start=False)"
      ]
     },
     "execution_count": 58,
     "metadata": {},
     "output_type": "execute_result"
    }
   ],
   "source": [
    "# Model\n",
    "lr = LogisticRegression(C = 10, penalty= 'l1')\n",
    "lr.fit(X_train, y_train)"
   ]
  },
  {
   "cell_type": "code",
   "execution_count": 59,
   "metadata": {
    "scrolled": true
   },
   "outputs": [
    {
     "name": "stdout",
     "output_type": "stream",
     "text": [
      "Accuracy Train Score:  0.620595756445\n",
      "Accuracy Test Score:  0.641642920311\n"
     ]
    }
   ],
   "source": [
    "# Accuracy\n",
    "print('Accuracy Train Score: ', lr.score(X_train, y_train))\n",
    "print('Accuracy Test Score: ', lr.score(X_test, y_test))"
   ]
  },
  {
   "cell_type": "code",
   "execution_count": 60,
   "metadata": {
    "scrolled": true
   },
   "outputs": [
    {
     "data": {
      "text/html": [
       "<div>\n",
       "<style>\n",
       "    .dataframe thead tr:only-child th {\n",
       "        text-align: right;\n",
       "    }\n",
       "\n",
       "    .dataframe thead th {\n",
       "        text-align: left;\n",
       "    }\n",
       "\n",
       "    .dataframe tbody tr th {\n",
       "        vertical-align: top;\n",
       "    }\n",
       "</style>\n",
       "<table border=\"1\" class=\"dataframe\">\n",
       "  <thead>\n",
       "    <tr style=\"text-align: right;\">\n",
       "      <th></th>\n",
       "      <th>Predicted_No_Readmit</th>\n",
       "      <th>Predicted_Yes_Readmit</th>\n",
       "    </tr>\n",
       "  </thead>\n",
       "  <tbody>\n",
       "    <tr>\n",
       "      <th>No_Readmit</th>\n",
       "      <td>11768</td>\n",
       "      <td>6296</td>\n",
       "    </tr>\n",
       "    <tr>\n",
       "      <th>Yes_Readmit</th>\n",
       "      <td>998</td>\n",
       "      <td>1292</td>\n",
       "    </tr>\n",
       "  </tbody>\n",
       "</table>\n",
       "</div>"
      ],
      "text/plain": [
       "             Predicted_No_Readmit  Predicted_Yes_Readmit\n",
       "No_Readmit                  11768                   6296\n",
       "Yes_Readmit                   998                   1292"
      ]
     },
     "execution_count": 60,
     "metadata": {},
     "output_type": "execute_result"
    }
   ],
   "source": [
    "# Confusion Matrix\n",
    "lr_predicted = lr.predict(X_test)\n",
    "lr_predicted_p = lr.predict_proba(X_test)\n",
    "conmat = np.array(confusion_matrix(y_test, lr_predicted))\n",
    "confusion = pd.DataFrame(conmat, index=['No_Readmit', 'Yes_Readmit'],\n",
    "                        columns = ['Predicted_No_Readmit', 'Predicted_Yes_Readmit'])\n",
    "confusion"
   ]
  },
  {
   "cell_type": "code",
   "execution_count": 61,
   "metadata": {},
   "outputs": [
    {
     "name": "stdout",
     "output_type": "stream",
     "text": [
      "0.65465165583\n"
     ]
    }
   ],
   "source": [
    "# ROC AUC\n",
    "# pred_lr = lr.predict_proba(Xss_test)\n",
    "lr_pred_p = [p[1] for p in lr_predicted_p]\n",
    "print(roc_auc_score(y_test, lr_pred_p ))"
   ]
  },
  {
   "cell_type": "code",
   "execution_count": 62,
   "metadata": {
    "scrolled": true
   },
   "outputs": [
    {
     "name": "stdout",
     "output_type": "stream",
     "text": [
      "0.564192139738\n"
     ]
    }
   ],
   "source": [
    "# Recall\n",
    "print(recall_score(y_test, lr_predicted))"
   ]
  },
  {
   "cell_type": "markdown",
   "metadata": {},
   "source": [
    "##### KNN Model"
   ]
  },
  {
   "cell_type": "code",
   "execution_count": 66,
   "metadata": {
    "collapsed": true,
    "scrolled": true
   },
   "outputs": [],
   "source": [
    "# knn_params = {\n",
    "#     'n_neighbors': range(2,6),\n",
    "#     'metric': ['euclidean'],\n",
    "#     'p': [1, 2],\n",
    "#     'weights': ['uniform', 'distance']}\n",
    "\n",
    "# knn_model = GridSearchCV(KNeighborsClassifier(), knn_params, verbose=0, n_jobs=-1)"
   ]
  },
  {
   "cell_type": "code",
   "execution_count": null,
   "metadata": {
    "collapsed": true
   },
   "outputs": [],
   "source": [
    "# knn_model.fit(X_train, y_train)\n",
    "# print('Best Score: ', knn_model.best_score_)\n",
    "# print('Best Params: ', knn_model.best_params_)"
   ]
  },
  {
   "cell_type": "code",
   "execution_count": 118,
   "metadata": {
    "collapsed": true
   },
   "outputs": [],
   "source": [
    "# best_estimator = knn_model.best_estimator_\n",
    "# print(best_estimator.score(X_test, y_test))"
   ]
  },
  {
   "cell_type": "code",
   "execution_count": 116,
   "metadata": {
    "scrolled": false
   },
   "outputs": [
    {
     "data": {
      "text/plain": [
       "KNeighborsClassifier(algorithm='auto', leaf_size=30, metric='minkowski',\n",
       "           metric_params=None, n_jobs=1, n_neighbors=15, p=2,\n",
       "           weights='uniform')"
      ]
     },
     "execution_count": 116,
     "metadata": {},
     "output_type": "execute_result"
    }
   ],
   "source": [
    "# Model\n",
    "knn = KNeighborsClassifier(n_neighbors = 20)\n",
    "knn.fit(X_train, y_train)"
   ]
  },
  {
   "cell_type": "code",
   "execution_count": 117,
   "metadata": {
    "scrolled": true
   },
   "outputs": [
    {
     "name": "stdout",
     "output_type": "stream",
     "text": [
      "Accuracy Train Score:  0.858310871518\n",
      "Accuracy Test Score:  0.757001080869\n"
     ]
    }
   ],
   "source": [
    "# Accuracy\n",
    "print('Accuracy Train Score: ', knn.score(X_train, y_train))\n",
    "print('Accuracy Test Score: ', knn.score(X_test, y_test))"
   ]
  },
  {
   "cell_type": "code",
   "execution_count": 118,
   "metadata": {},
   "outputs": [
    {
     "data": {
      "text/html": [
       "<div>\n",
       "<style>\n",
       "    .dataframe thead tr:only-child th {\n",
       "        text-align: right;\n",
       "    }\n",
       "\n",
       "    .dataframe thead th {\n",
       "        text-align: left;\n",
       "    }\n",
       "\n",
       "    .dataframe tbody tr th {\n",
       "        vertical-align: top;\n",
       "    }\n",
       "</style>\n",
       "<table border=\"1\" class=\"dataframe\">\n",
       "  <thead>\n",
       "    <tr style=\"text-align: right;\">\n",
       "      <th></th>\n",
       "      <th>Predicted_No_Readmit</th>\n",
       "      <th>Predicted_Yes_Readmit</th>\n",
       "    </tr>\n",
       "  </thead>\n",
       "  <tbody>\n",
       "    <tr>\n",
       "      <th>No_Readmit</th>\n",
       "      <td>14739</td>\n",
       "      <td>3325</td>\n",
       "    </tr>\n",
       "    <tr>\n",
       "      <th>Yes_Readmit</th>\n",
       "      <td>1621</td>\n",
       "      <td>669</td>\n",
       "    </tr>\n",
       "  </tbody>\n",
       "</table>\n",
       "</div>"
      ],
      "text/plain": [
       "             Predicted_No_Readmit  Predicted_Yes_Readmit\n",
       "No_Readmit                  14739                   3325\n",
       "Yes_Readmit                  1621                    669"
      ]
     },
     "execution_count": 118,
     "metadata": {},
     "output_type": "execute_result"
    }
   ],
   "source": [
    "# Confusion Matrix\n",
    "predicted = knn.predict(X_test)\n",
    "predicted_p = knn.predict_proba(X_test)\n",
    "conmat = np.array(confusion_matrix(y_test, predicted))\n",
    "confusion = pd.DataFrame(conmat, index=['No_Readmit', 'Yes_Readmit'],\n",
    "                        columns = ['Predicted_No_Readmit', 'Predicted_Yes_Readmit'])\n",
    "confusion"
   ]
  },
  {
   "cell_type": "code",
   "execution_count": 119,
   "metadata": {},
   "outputs": [
    {
     "name": "stdout",
     "output_type": "stream",
     "text": [
      "0.596174494568\n"
     ]
    }
   ],
   "source": [
    "# ROC AUC\n",
    "pred_knn = knn.predict_proba(X_test)\n",
    "pred_knn_p = [p[1] for p in pred_knn]\n",
    "print(roc_auc_score(y_test, pred_knn_p))"
   ]
  },
  {
   "cell_type": "code",
   "execution_count": 120,
   "metadata": {},
   "outputs": [
    {
     "name": "stdout",
     "output_type": "stream",
     "text": [
      "0.292139737991\n"
     ]
    }
   ],
   "source": [
    "# Recall\n",
    "print(recall_score(y_test, knn.predict(X_test)))"
   ]
  },
  {
   "cell_type": "markdown",
   "metadata": {},
   "source": [
    "##### Decision Tree"
   ]
  },
  {
   "cell_type": "code",
   "execution_count": 58,
   "metadata": {
    "collapsed": true
   },
   "outputs": [],
   "source": [
    "# dtc = DecisionTreeClassifier()\n",
    "\n",
    "# dtc_params = {\n",
    "#     'max_depth':[4,5],\n",
    "#     'max_features':[None,'log2',2, 5],\n",
    "#     'min_samples_split':[3]}\n",
    "\n",
    "# dtc_model = GridSearchCV(dtc, dtc_params, cv=5, verbose=0, n_jobs=-1)"
   ]
  },
  {
   "cell_type": "code",
   "execution_count": 59,
   "metadata": {},
   "outputs": [
    {
     "name": "stdout",
     "output_type": "stream",
     "text": [
      "Best Score:  0.840555539156\n",
      "Best Params:  {'max_depth': 5, 'max_features': None, 'min_samples_split': 3}\n"
     ]
    }
   ],
   "source": [
    "# dtc_model.fit(X_train, y_train)\n",
    "# print('Best Score: ', dtc_model.best_score_)\n",
    "# print('Best Params: ', dtc_model.best_params_)"
   ]
  },
  {
   "cell_type": "code",
   "execution_count": 65,
   "metadata": {},
   "outputs": [
    {
     "data": {
      "text/plain": [
       "DecisionTreeClassifier(class_weight=None, criterion='gini', max_depth=5,\n",
       "            max_features=None, max_leaf_nodes=None,\n",
       "            min_impurity_decrease=0.0, min_impurity_split=None,\n",
       "            min_samples_leaf=1, min_samples_split=3,\n",
       "            min_weight_fraction_leaf=0.0, presort=False, random_state=None,\n",
       "            splitter='best')"
      ]
     },
     "execution_count": 65,
     "metadata": {},
     "output_type": "execute_result"
    }
   ],
   "source": [
    "# Model\n",
    "dtc = DecisionTreeClassifier(max_depth = 5, max_features = None, criterion = 'entropy')\n",
    "dtc.fit(X_train, y_train)"
   ]
  },
  {
   "cell_type": "code",
   "execution_count": 66,
   "metadata": {},
   "outputs": [
    {
     "name": "stdout",
     "output_type": "stream",
     "text": [
      "Accuracy Train Score:  0.842477019836\n",
      "Accuracy Test Score:  0.854180996364\n"
     ]
    }
   ],
   "source": [
    "# Acurracy\n",
    "print('Accuracy Train Score: ', dtc.score(X_train, y_train))\n",
    "print('Accuracy Test Score: ', dtc.score(X_test, y_test))"
   ]
  },
  {
   "cell_type": "code",
   "execution_count": 68,
   "metadata": {
    "scrolled": false
   },
   "outputs": [
    {
     "data": {
      "text/html": [
       "<div>\n",
       "<style>\n",
       "    .dataframe thead tr:only-child th {\n",
       "        text-align: right;\n",
       "    }\n",
       "\n",
       "    .dataframe thead th {\n",
       "        text-align: left;\n",
       "    }\n",
       "\n",
       "    .dataframe tbody tr th {\n",
       "        vertical-align: top;\n",
       "    }\n",
       "</style>\n",
       "<table border=\"1\" class=\"dataframe\">\n",
       "  <thead>\n",
       "    <tr style=\"text-align: right;\">\n",
       "      <th></th>\n",
       "      <th>Predicted_No_Readmit</th>\n",
       "      <th>Predicted_Yes_Readmit</th>\n",
       "    </tr>\n",
       "  </thead>\n",
       "  <tbody>\n",
       "    <tr>\n",
       "      <th>No_Readmit</th>\n",
       "      <td>17023</td>\n",
       "      <td>1041</td>\n",
       "    </tr>\n",
       "    <tr>\n",
       "      <th>Yes_Readmit</th>\n",
       "      <td>1927</td>\n",
       "      <td>363</td>\n",
       "    </tr>\n",
       "  </tbody>\n",
       "</table>\n",
       "</div>"
      ],
      "text/plain": [
       "             Predicted_No_Readmit  Predicted_Yes_Readmit\n",
       "No_Readmit                  17023                   1041\n",
       "Yes_Readmit                  1927                    363"
      ]
     },
     "execution_count": 68,
     "metadata": {},
     "output_type": "execute_result"
    }
   ],
   "source": [
    "# Confusion Matrix\n",
    "dtc_predicted = dtc.predict(X_test)\n",
    "dtc_predicted_p = dtc.predict_proba(X_test)\n",
    "conmat = np.array(confusion_matrix(y_test, dtc_predicted))\n",
    "confusion = pd.DataFrame(conmat, index=['No_Readmit', 'Yes_Readmit'],\n",
    "                        columns = ['Predicted_No_Readmit', 'Predicted_Yes_Readmit'])\n",
    "confusion"
   ]
  },
  {
   "cell_type": "code",
   "execution_count": 69,
   "metadata": {},
   "outputs": [
    {
     "name": "stdout",
     "output_type": "stream",
     "text": [
      "0.631811395485\n"
     ]
    }
   ],
   "source": [
    "# ROC AUC\n",
    "pred_dtc = dtc.predict_proba(X_test)\n",
    "pred_dtc_p = [p[1] for p in pred_dtc]\n",
    "print(roc_auc_score(y_test, pred_dtc_p))"
   ]
  },
  {
   "cell_type": "code",
   "execution_count": 70,
   "metadata": {
    "scrolled": true
   },
   "outputs": [
    {
     "name": "stdout",
     "output_type": "stream",
     "text": [
      "0.158515283843\n"
     ]
    }
   ],
   "source": [
    "# Recall\n",
    "print(recall_score(y_test, dtc.predict(X_test)))"
   ]
  },
  {
   "cell_type": "markdown",
   "metadata": {},
   "source": [
    "##### Gradient Boost Classification Model"
   ]
  },
  {
   "cell_type": "code",
   "execution_count": 60,
   "metadata": {
    "collapsed": true,
    "scrolled": true
   },
   "outputs": [],
   "source": [
    "# gbc = GradientBoostingClassifier()\n",
    "# gbc_params = {\n",
    "#     'n_estimators' : [100, 125, 150],\n",
    "#     'max_depth' : range(2,5),\n",
    "# #     'max_features' : ['auto', 'log2', 2, None],\n",
    "# #     'min_samples_split' : [2, 3]\n",
    "# }\n",
    "# gbc_model = GridSearchCV(gbc, param_grid= gbc_params, cv=5, verbose=0, n_jobs=-1)"
   ]
  },
  {
   "cell_type": "code",
   "execution_count": 61,
   "metadata": {},
   "outputs": [
    {
     "name": "stdout",
     "output_type": "stream",
     "text": [
      "Best Score:  0.933509460696\n",
      "Best Params:  {'max_depth': 4, 'n_estimators': 150}\n"
     ]
    }
   ],
   "source": [
    "# gbc_model.fit(X_train, y_train)\n",
    "# print('Best Score: ', gbc_model.best_score_)\n",
    "# print('Best Params: ', gbc_model.best_params_)"
   ]
  },
  {
   "cell_type": "code",
   "execution_count": 82,
   "metadata": {},
   "outputs": [
    {
     "data": {
      "text/plain": [
       "GradientBoostingClassifier(criterion='friedman_mse', init=None,\n",
       "              learning_rate=0.1, loss='deviance', max_depth=5,\n",
       "              max_features=None, max_leaf_nodes=None,\n",
       "              min_impurity_decrease=0.0, min_impurity_split=None,\n",
       "              min_samples_leaf=1, min_samples_split=2,\n",
       "              min_weight_fraction_leaf=0.0, n_estimators=150,\n",
       "              presort='auto', random_state=None, subsample=1.0, verbose=0,\n",
       "              warm_start=False)"
      ]
     },
     "execution_count": 82,
     "metadata": {},
     "output_type": "execute_result"
    }
   ],
   "source": [
    "# Model\n",
    "gbc = GradientBoostingClassifier(max_depth = 5, n_estimators = 150)\n",
    "gbc.fit(X_train, y_train)"
   ]
  },
  {
   "cell_type": "code",
   "execution_count": 84,
   "metadata": {},
   "outputs": [
    {
     "name": "stdout",
     "output_type": "stream",
     "text": [
      "Accuracy Train Score:  0.937487041261\n",
      "Accuracy Test Score:  0.88768792375\n"
     ]
    }
   ],
   "source": [
    "# Acurracy\n",
    "print('Accuracy Train Score: ', gbc.score(X_train, y_train))\n",
    "print('Accuracy Test Score: ', gbc.score(X_test, y_test))"
   ]
  },
  {
   "cell_type": "code",
   "execution_count": 85,
   "metadata": {},
   "outputs": [
    {
     "data": {
      "text/html": [
       "<div>\n",
       "<style>\n",
       "    .dataframe thead tr:only-child th {\n",
       "        text-align: right;\n",
       "    }\n",
       "\n",
       "    .dataframe thead th {\n",
       "        text-align: left;\n",
       "    }\n",
       "\n",
       "    .dataframe tbody tr th {\n",
       "        vertical-align: top;\n",
       "    }\n",
       "</style>\n",
       "<table border=\"1\" class=\"dataframe\">\n",
       "  <thead>\n",
       "    <tr style=\"text-align: right;\">\n",
       "      <th></th>\n",
       "      <th>Predicted_No_Readmit</th>\n",
       "      <th>Predicted_Yes_Readmit</th>\n",
       "    </tr>\n",
       "  </thead>\n",
       "  <tbody>\n",
       "    <tr>\n",
       "      <th>No_Readmit</th>\n",
       "      <td>18038</td>\n",
       "      <td>26</td>\n",
       "    </tr>\n",
       "    <tr>\n",
       "      <th>Yes_Readmit</th>\n",
       "      <td>2260</td>\n",
       "      <td>30</td>\n",
       "    </tr>\n",
       "  </tbody>\n",
       "</table>\n",
       "</div>"
      ],
      "text/plain": [
       "             Predicted_No_Readmit  Predicted_Yes_Readmit\n",
       "No_Readmit                  18038                     26\n",
       "Yes_Readmit                  2260                     30"
      ]
     },
     "execution_count": 85,
     "metadata": {},
     "output_type": "execute_result"
    }
   ],
   "source": [
    "# Confusion Matrix\n",
    "predicted = gbc.predict(X_test)\n",
    "predicted_p = gbc.predict_proba(X_test)\n",
    "conmat = np.array(confusion_matrix(y_test, predicted))\n",
    "confusion = pd.DataFrame(conmat, index=['No_Readmit', 'Yes_Readmit'],\n",
    "                        columns = ['Predicted_No_Readmit', 'Predicted_Yes_Readmit'])\n",
    "confusion"
   ]
  },
  {
   "cell_type": "code",
   "execution_count": 86,
   "metadata": {},
   "outputs": [
    {
     "name": "stdout",
     "output_type": "stream",
     "text": [
      "0.668775080645\n"
     ]
    }
   ],
   "source": [
    "# ROC AUC\n",
    "pred_gbc = gbc.predict_proba(X_test)\n",
    "pred_gbc_p = [p[1] for p in pred_gbc]\n",
    "print(roc_auc_score(y_test, pred_gbc_p))"
   ]
  },
  {
   "cell_type": "code",
   "execution_count": 87,
   "metadata": {},
   "outputs": [
    {
     "name": "stdout",
     "output_type": "stream",
     "text": [
      "0.0131004366812\n"
     ]
    }
   ],
   "source": [
    "# Recall\n",
    "print(recall_score(y_test, gbc.predict(X_test)))"
   ]
  },
  {
   "cell_type": "markdown",
   "metadata": {},
   "source": [
    "##### Random Forest Classification Model"
   ]
  },
  {
   "cell_type": "code",
   "execution_count": 62,
   "metadata": {
    "collapsed": true
   },
   "outputs": [],
   "source": [
    "# rfc = RandomForestClassifier()\n",
    "# rfc_params = {\n",
    "#     'max_depth': [4, 5, None],\n",
    "#     'max_features': [2,4],\n",
    "#    'min_samples_split': [2,4,6],\n",
    "#    'min_samples_leaf': [2,4,6],\n",
    "#    'bootstrap': [True, False],\n",
    "#     'criterion': [\"gini\", \"entropy\"],\n",
    "#     'n_estimators' : [100, 150, 200]}\n",
    "# rfc_model = GridSearchCV(rfc, param_grid= rfc_params, cv=5, verbose=0, n_jobs=-1)"
   ]
  },
  {
   "cell_type": "code",
   "execution_count": 63,
   "metadata": {
    "scrolled": false
   },
   "outputs": [
    {
     "name": "stdout",
     "output_type": "stream",
     "text": [
      "Best Score:  0.935479824069\n",
      "Best Params:  {'criterion': 'gini', 'max_depth': None, 'n_estimators': 150}\n"
     ]
    }
   ],
   "source": [
    "# rfc_model.fit(X_train, y_train)\n",
    "# print('Best Score: ', rfc_model.best_score_)\n",
    "# print('Best Params: ', rfc_model.best_params_)"
   ]
  },
  {
   "cell_type": "code",
   "execution_count": 88,
   "metadata": {
    "scrolled": false
   },
   "outputs": [
    {
     "data": {
      "text/plain": [
       "RandomForestClassifier(bootstrap=True, class_weight=None, criterion='gini',\n",
       "            max_depth=None, max_features='auto', max_leaf_nodes=None,\n",
       "            min_impurity_decrease=0.0, min_impurity_split=None,\n",
       "            min_samples_leaf=1, min_samples_split=2,\n",
       "            min_weight_fraction_leaf=0.0, n_estimators=150, n_jobs=-1,\n",
       "            oob_score=False, random_state=None, verbose=0,\n",
       "            warm_start=False)"
      ]
     },
     "execution_count": 88,
     "metadata": {},
     "output_type": "execute_result"
    }
   ],
   "source": [
    "# Model\n",
    "rfc= RandomForestClassifier(criterion ='gini', max_depth = None, n_estimators = 150, verbose=0, n_jobs=-1)\n",
    "rfc.fit(X_train, y_train)"
   ]
  },
  {
   "cell_type": "code",
   "execution_count": 90,
   "metadata": {},
   "outputs": [
    {
     "name": "stdout",
     "output_type": "stream",
     "text": [
      "Accuracy Train Score:  1.0\n",
      "Accuracy Test Score:  0.887147489437\n"
     ]
    }
   ],
   "source": [
    "# Accuracy?\n",
    "print('Accuracy Train Score: ', rfc.score(X_train, y_train))\n",
    "print('Accuracy Test Score: ', rfc.score(X_test, y_test))"
   ]
  },
  {
   "cell_type": "code",
   "execution_count": 91,
   "metadata": {},
   "outputs": [
    {
     "data": {
      "text/html": [
       "<div>\n",
       "<style>\n",
       "    .dataframe thead tr:only-child th {\n",
       "        text-align: right;\n",
       "    }\n",
       "\n",
       "    .dataframe thead th {\n",
       "        text-align: left;\n",
       "    }\n",
       "\n",
       "    .dataframe tbody tr th {\n",
       "        vertical-align: top;\n",
       "    }\n",
       "</style>\n",
       "<table border=\"1\" class=\"dataframe\">\n",
       "  <thead>\n",
       "    <tr style=\"text-align: right;\">\n",
       "      <th></th>\n",
       "      <th>Predicted_No_Readmit</th>\n",
       "      <th>Predicted_Yes_Readmit</th>\n",
       "    </tr>\n",
       "  </thead>\n",
       "  <tbody>\n",
       "    <tr>\n",
       "      <th>No_Readmit</th>\n",
       "      <td>18022</td>\n",
       "      <td>42</td>\n",
       "    </tr>\n",
       "    <tr>\n",
       "      <th>Yes_Readmit</th>\n",
       "      <td>2255</td>\n",
       "      <td>35</td>\n",
       "    </tr>\n",
       "  </tbody>\n",
       "</table>\n",
       "</div>"
      ],
      "text/plain": [
       "             Predicted_No_Readmit  Predicted_Yes_Readmit\n",
       "No_Readmit                  18022                     42\n",
       "Yes_Readmit                  2255                     35"
      ]
     },
     "execution_count": 91,
     "metadata": {},
     "output_type": "execute_result"
    }
   ],
   "source": [
    "# Confusion Matrix\n",
    "predicted = rfc.predict(X_test)\n",
    "predicted_p = rfc.predict_proba(X_test)\n",
    "conmat = np.array(confusion_matrix(y_test, predicted))\n",
    "confusion = pd.DataFrame(conmat, index=['No_Readmit', 'Yes_Readmit'],\n",
    "                        columns = ['Predicted_No_Readmit', 'Predicted_Yes_Readmit'])\n",
    "confusion\n"
   ]
  },
  {
   "cell_type": "code",
   "execution_count": 92,
   "metadata": {
    "scrolled": true
   },
   "outputs": [
    {
     "name": "stdout",
     "output_type": "stream",
     "text": [
      "0.6176106135\n"
     ]
    }
   ],
   "source": [
    "# ROC AUC\n",
    "pred_rfc = rfc.predict_proba(X_test)\n",
    "pred_rfc_p = [p[1] for p in pred_rfc]\n",
    "print(roc_auc_score(y_test, pred_rfc_p))"
   ]
  },
  {
   "cell_type": "code",
   "execution_count": 93,
   "metadata": {},
   "outputs": [
    {
     "name": "stdout",
     "output_type": "stream",
     "text": [
      "0.0152838427948\n"
     ]
    }
   ],
   "source": [
    "# Recall\n",
    "print(recall_score(y_test, rfc.predict(X_test)))"
   ]
  },
  {
   "cell_type": "markdown",
   "metadata": {
    "collapsed": true
   },
   "source": [
    "#### Feature Importance"
   ]
  },
  {
   "cell_type": "code",
   "execution_count": 97,
   "metadata": {},
   "outputs": [
    {
     "data": {
      "text/html": [
       "<div>\n",
       "<style>\n",
       "    .dataframe thead tr:only-child th {\n",
       "        text-align: right;\n",
       "    }\n",
       "\n",
       "    .dataframe thead th {\n",
       "        text-align: left;\n",
       "    }\n",
       "\n",
       "    .dataframe tbody tr th {\n",
       "        vertical-align: top;\n",
       "    }\n",
       "</style>\n",
       "<table border=\"1\" class=\"dataframe\">\n",
       "  <thead>\n",
       "    <tr style=\"text-align: right;\">\n",
       "      <th></th>\n",
       "      <th>feature</th>\n",
       "      <th>importance</th>\n",
       "    </tr>\n",
       "  </thead>\n",
       "  <tbody>\n",
       "    <tr>\n",
       "      <th>33</th>\n",
       "      <td>number_inpatient</td>\n",
       "      <td>0.518805</td>\n",
       "    </tr>\n",
       "    <tr>\n",
       "      <th>11</th>\n",
       "      <td>discharge_disposition_id_D/T</td>\n",
       "      <td>0.216802</td>\n",
       "    </tr>\n",
       "    <tr>\n",
       "      <th>25</th>\n",
       "      <td>gender</td>\n",
       "      <td>0.186317</td>\n",
       "    </tr>\n",
       "    <tr>\n",
       "      <th>43</th>\n",
       "      <td>insulin</td>\n",
       "      <td>0.050325</td>\n",
       "    </tr>\n",
       "    <tr>\n",
       "      <th>2</th>\n",
       "      <td>race_Caucasian</td>\n",
       "      <td>0.026410</td>\n",
       "    </tr>\n",
       "    <tr>\n",
       "      <th>46</th>\n",
       "      <td>total_meds</td>\n",
       "      <td>0.001151</td>\n",
       "    </tr>\n",
       "    <tr>\n",
       "      <th>3</th>\n",
       "      <td>race_AfricanAmerican</td>\n",
       "      <td>0.000190</td>\n",
       "    </tr>\n",
       "  </tbody>\n",
       "</table>\n",
       "</div>"
      ],
      "text/plain": [
       "                         feature  importance\n",
       "33              number_inpatient    0.518805\n",
       "11  discharge_disposition_id_D/T    0.216802\n",
       "25                        gender    0.186317\n",
       "43                       insulin    0.050325\n",
       "2                 race_Caucasian    0.026410\n",
       "46                    total_meds    0.001151\n",
       "3           race_AfricanAmerican    0.000190"
      ]
     },
     "execution_count": 97,
     "metadata": {},
     "output_type": "execute_result"
    }
   ],
   "source": [
    "fi = pd.DataFrame({\n",
    "        'feature':X.columns,\n",
    "        'importance':dtc.feature_importances_\n",
    "    })\n",
    "\n",
    "fi.sort_values('importance', ascending=False, inplace=True)\n",
    "fi.loc[fi.importance > 0, :].head(10)"
   ]
  },
  {
   "cell_type": "code",
   "execution_count": 98,
   "metadata": {
    "collapsed": true
   },
   "outputs": [],
   "source": [
    "newdf = fi.loc[fi.importance > 0, :].head(10)"
   ]
  },
  {
   "cell_type": "code",
   "execution_count": 104,
   "metadata": {
    "scrolled": false
   },
   "outputs": [
    {
     "data": {
      "text/plain": [
       "(array([0, 1, 2, 3, 4, 5, 6]), <a list of 7 Text yticklabel objects>)"
      ]
     },
     "execution_count": 104,
     "metadata": {},
     "output_type": "execute_result"
    },
    {
     "data": {
      "image/png": "[encoded data removed]",
      "text/plain": [
       "<matplotlib.figure.Figure at 0x1122dd8d0>"
      ]
     },
     "metadata": {},
     "output_type": "display_data"
    }
   ],
   "source": [
    "plt.figure(figsize=(10, 5))\n",
    "sns.barplot('importance', 'feature', data= newdf, palette='Greens')\n",
    "plt.title('Decision Tree Feature Importance', size= 15)\n",
    "plt.xlabel('% of Variance Explanation', size= 15)\n",
    "plt.ylabel('')\n",
    "plt.yticks(size=15)"
   ]
  }
 ],
 "metadata": {
  "kernelspec": {
   "display_name": "Python 3",
   "language": "python",
   "name": "python3"
  },
  "language_info": {
   "codemirror_mode": {
    "name": "ipython",
    "version": 3
   },
   "file_extension": ".py",
   "mimetype": "text/x-python",
   "name": "python",
   "nbconvert_exporter": "python",
   "pygments_lexer": "ipython3",
   "version": "3.6.1"
  }
 },
 "nbformat": 4,
 "nbformat_minor": 2
}
